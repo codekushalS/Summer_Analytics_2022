{
 "cells": [
  {
   "cell_type": "markdown",
   "metadata": {
    "id": "k6R-ruFfQumc"
   },
   "source": [
    "# Summer Analytics 2022 - Basic Data Analysis"
   ]
  },
  {
   "cell_type": "markdown",
   "metadata": {
    "id": "WN4NpeosQump"
   },
   "source": [
    "- #### Welcome to your second assignment, on basic data analysis!\n",
    "- #### This Assignment is ungraded\n",
    "\n",
    "\n",
    "\n"
   ]
  },
  {
   "cell_type": "markdown",
   "metadata": {
    "id": "t2d1l4R0Qumr"
   },
   "source": [
    "### 1) Import Pandas and Numpy"
   ]
  },
  {
   "cell_type": "code",
   "execution_count": 2,
   "metadata": {
    "executionInfo": {
     "elapsed": 1138,
     "status": "ok",
     "timestamp": 1621519089830,
     "user": {
      "displayName": "Debarshi CHANDA",
      "photoUrl": "https://lh3.googleusercontent.com/a-/AOh14GitJYa34lfGv-oY5eOhlKSEoPgbefOdJ2meuVJkFsE=s64",
      "userId": "15020289292628573652"
     },
     "user_tz": -330
    },
    "id": "KppTW-YSQumr"
   },
   "outputs": [],
   "source": [
    "import numpy as np\n",
    "import pandas as pd"
   ]
  },
  {
   "cell_type": "markdown",
   "metadata": {
    "id": "3Ath63WvQums"
   },
   "source": [
    "### 2) Import the dataset and  Assign it to a variable called Chipo\n",
    "\n",
    "#### Import the dataset from this url 'https://raw.githubusercontent.com/justmarkham/DAT8/master/data/chipotle.tsv '\n",
    "#### REMEMBER: It is a .tsv file , you will have to do some research on how to read .tsv files first!"
   ]
  },
  {
   "cell_type": "code",
   "execution_count": 3,
   "metadata": {
    "executionInfo": {
     "elapsed": 2020,
     "status": "ok",
     "timestamp": 1621519090717,
     "user": {
      "displayName": "Debarshi CHANDA",
      "photoUrl": "https://lh3.googleusercontent.com/a-/AOh14GitJYa34lfGv-oY5eOhlKSEoPgbefOdJ2meuVJkFsE=s64",
      "userId": "15020289292628573652"
     },
     "user_tz": -330
    },
    "id": "vLPaP-GUQumt"
   },
   "outputs": [],
   "source": [
    "url = 'https://raw.githubusercontent.com/justmarkham/DAT8/master/data/chipotle.tsv'\n",
    "    \n",
    "chipo = pd.read_csv(url, sep = '\\t')"
   ]
  },
  {
   "cell_type": "markdown",
   "metadata": {
    "id": "P2ScjmNYQumu"
   },
   "source": [
    "### 3) See the first 10 entries"
   ]
  },
  {
   "cell_type": "code",
   "execution_count": 4,
   "metadata": {
    "colab": {
     "base_uri": "https://localhost:8080/",
     "height": 345
    },
    "executionInfo": {
     "elapsed": 1964,
     "status": "ok",
     "timestamp": 1621519090718,
     "user": {
      "displayName": "Debarshi CHANDA",
      "photoUrl": "https://lh3.googleusercontent.com/a-/AOh14GitJYa34lfGv-oY5eOhlKSEoPgbefOdJ2meuVJkFsE=s64",
      "userId": "15020289292628573652"
     },
     "user_tz": -330
    },
    "id": "lyou7yjkQumu",
    "outputId": "13ef9249-f449-415a-a105-e69049b93b1c",
    "scrolled": false
   },
   "outputs": [
    {
     "data": {
      "text/html": [
       "<div>\n",
       "<style scoped>\n",
       "    .dataframe tbody tr th:only-of-type {\n",
       "        vertical-align: middle;\n",
       "    }\n",
       "\n",
       "    .dataframe tbody tr th {\n",
       "        vertical-align: top;\n",
       "    }\n",
       "\n",
       "    .dataframe thead th {\n",
       "        text-align: right;\n",
       "    }\n",
       "</style>\n",
       "<table border=\"1\" class=\"dataframe\">\n",
       "  <thead>\n",
       "    <tr style=\"text-align: right;\">\n",
       "      <th></th>\n",
       "      <th>order_id</th>\n",
       "      <th>quantity</th>\n",
       "      <th>item_name</th>\n",
       "      <th>choice_description</th>\n",
       "      <th>item_price</th>\n",
       "    </tr>\n",
       "  </thead>\n",
       "  <tbody>\n",
       "    <tr>\n",
       "      <th>0</th>\n",
       "      <td>1</td>\n",
       "      <td>1</td>\n",
       "      <td>Chips and Fresh Tomato Salsa</td>\n",
       "      <td>NaN</td>\n",
       "      <td>$2.39</td>\n",
       "    </tr>\n",
       "    <tr>\n",
       "      <th>1</th>\n",
       "      <td>1</td>\n",
       "      <td>1</td>\n",
       "      <td>Izze</td>\n",
       "      <td>[Clementine]</td>\n",
       "      <td>$3.39</td>\n",
       "    </tr>\n",
       "    <tr>\n",
       "      <th>2</th>\n",
       "      <td>1</td>\n",
       "      <td>1</td>\n",
       "      <td>Nantucket Nectar</td>\n",
       "      <td>[Apple]</td>\n",
       "      <td>$3.39</td>\n",
       "    </tr>\n",
       "    <tr>\n",
       "      <th>3</th>\n",
       "      <td>1</td>\n",
       "      <td>1</td>\n",
       "      <td>Chips and Tomatillo-Green Chili Salsa</td>\n",
       "      <td>NaN</td>\n",
       "      <td>$2.39</td>\n",
       "    </tr>\n",
       "    <tr>\n",
       "      <th>4</th>\n",
       "      <td>2</td>\n",
       "      <td>2</td>\n",
       "      <td>Chicken Bowl</td>\n",
       "      <td>[Tomatillo-Red Chili Salsa (Hot), [Black Beans...</td>\n",
       "      <td>$16.98</td>\n",
       "    </tr>\n",
       "    <tr>\n",
       "      <th>5</th>\n",
       "      <td>3</td>\n",
       "      <td>1</td>\n",
       "      <td>Chicken Bowl</td>\n",
       "      <td>[Fresh Tomato Salsa (Mild), [Rice, Cheese, Sou...</td>\n",
       "      <td>$10.98</td>\n",
       "    </tr>\n",
       "    <tr>\n",
       "      <th>6</th>\n",
       "      <td>3</td>\n",
       "      <td>1</td>\n",
       "      <td>Side of Chips</td>\n",
       "      <td>NaN</td>\n",
       "      <td>$1.69</td>\n",
       "    </tr>\n",
       "    <tr>\n",
       "      <th>7</th>\n",
       "      <td>4</td>\n",
       "      <td>1</td>\n",
       "      <td>Steak Burrito</td>\n",
       "      <td>[Tomatillo Red Chili Salsa, [Fajita Vegetables...</td>\n",
       "      <td>$11.75</td>\n",
       "    </tr>\n",
       "    <tr>\n",
       "      <th>8</th>\n",
       "      <td>4</td>\n",
       "      <td>1</td>\n",
       "      <td>Steak Soft Tacos</td>\n",
       "      <td>[Tomatillo Green Chili Salsa, [Pinto Beans, Ch...</td>\n",
       "      <td>$9.25</td>\n",
       "    </tr>\n",
       "    <tr>\n",
       "      <th>9</th>\n",
       "      <td>5</td>\n",
       "      <td>1</td>\n",
       "      <td>Steak Burrito</td>\n",
       "      <td>[Fresh Tomato Salsa, [Rice, Black Beans, Pinto...</td>\n",
       "      <td>$9.25</td>\n",
       "    </tr>\n",
       "  </tbody>\n",
       "</table>\n",
       "</div>"
      ],
      "text/plain": [
       "   order_id  ...  item_price\n",
       "0         1  ...      $2.39 \n",
       "1         1  ...      $3.39 \n",
       "2         1  ...      $3.39 \n",
       "3         1  ...      $2.39 \n",
       "4         2  ...     $16.98 \n",
       "5         3  ...     $10.98 \n",
       "6         3  ...      $1.69 \n",
       "7         4  ...     $11.75 \n",
       "8         4  ...      $9.25 \n",
       "9         5  ...      $9.25 \n",
       "\n",
       "[10 rows x 5 columns]"
      ]
     },
     "execution_count": 4,
     "metadata": {
      "tags": []
     },
     "output_type": "execute_result"
    }
   ],
   "source": [
    "chipo.head(10)"
   ]
  },
  {
   "cell_type": "markdown",
   "metadata": {
    "id": "CcbMKLPjQumw"
   },
   "source": [
    "### 4) What is the number of observations in the dataset?"
   ]
  },
  {
   "cell_type": "code",
   "execution_count": 5,
   "metadata": {
    "colab": {
     "base_uri": "https://localhost:8080/"
    },
    "executionInfo": {
     "elapsed": 1958,
     "status": "ok",
     "timestamp": 1621519090719,
     "user": {
      "displayName": "Debarshi CHANDA",
      "photoUrl": "https://lh3.googleusercontent.com/a-/AOh14GitJYa34lfGv-oY5eOhlKSEoPgbefOdJ2meuVJkFsE=s64",
      "userId": "15020289292628573652"
     },
     "user_tz": -330
    },
    "id": "-BaU8zGFQumw",
    "outputId": "2aaaa1f4-dd58-4d7d-945c-5f286418e449"
   },
   "outputs": [
    {
     "data": {
      "text/plain": [
       "4622"
      ]
     },
     "execution_count": 5,
     "metadata": {
      "tags": []
     },
     "output_type": "execute_result"
    }
   ],
   "source": [
    "#Solution 1\n",
    "chipo.shape[0]"
   ]
  },
  {
   "cell_type": "code",
   "execution_count": 6,
   "metadata": {
    "colab": {
     "base_uri": "https://localhost:8080/"
    },
    "executionInfo": {
     "elapsed": 1954,
     "status": "ok",
     "timestamp": 1621519090720,
     "user": {
      "displayName": "Debarshi CHANDA",
      "photoUrl": "https://lh3.googleusercontent.com/a-/AOh14GitJYa34lfGv-oY5eOhlKSEoPgbefOdJ2meuVJkFsE=s64",
      "userId": "15020289292628573652"
     },
     "user_tz": -330
    },
    "id": "hUAFaUYjQumx",
    "outputId": "9d80e52a-a9fc-4abd-fa9d-7f87c5a8c3c5"
   },
   "outputs": [
    {
     "name": "stdout",
     "output_type": "stream",
     "text": [
      "<class 'pandas.core.frame.DataFrame'>\n",
      "RangeIndex: 4622 entries, 0 to 4621\n",
      "Data columns (total 5 columns):\n",
      " #   Column              Non-Null Count  Dtype \n",
      "---  ------              --------------  ----- \n",
      " 0   order_id            4622 non-null   int64 \n",
      " 1   quantity            4622 non-null   int64 \n",
      " 2   item_name           4622 non-null   object\n",
      " 3   choice_description  3376 non-null   object\n",
      " 4   item_price          4622 non-null   object\n",
      "dtypes: int64(2), object(3)\n",
      "memory usage: 180.7+ KB\n"
     ]
    }
   ],
   "source": [
    "#Solution 2\n",
    "chipo.info()"
   ]
  },
  {
   "cell_type": "markdown",
   "metadata": {
    "id": "m8O-HitKQumy"
   },
   "source": [
    "### 5) What is the number of columns in the dataset?"
   ]
  },
  {
   "cell_type": "code",
   "execution_count": 7,
   "metadata": {
    "colab": {
     "base_uri": "https://localhost:8080/"
    },
    "executionInfo": {
     "elapsed": 1949,
     "status": "ok",
     "timestamp": 1621519090720,
     "user": {
      "displayName": "Debarshi CHANDA",
      "photoUrl": "https://lh3.googleusercontent.com/a-/AOh14GitJYa34lfGv-oY5eOhlKSEoPgbefOdJ2meuVJkFsE=s64",
      "userId": "15020289292628573652"
     },
     "user_tz": -330
    },
    "id": "vasn1rPaQumy",
    "outputId": "dd29c1cc-74fa-4212-dac4-34f5b0ec00bd"
   },
   "outputs": [
    {
     "data": {
      "text/plain": [
       "5"
      ]
     },
     "execution_count": 7,
     "metadata": {
      "tags": []
     },
     "output_type": "execute_result"
    }
   ],
   "source": [
    "chipo.shape[1]"
   ]
  },
  {
   "cell_type": "markdown",
   "metadata": {
    "id": "SBeX0tmkQumz"
   },
   "source": [
    "### 6) Print the name of all the columns."
   ]
  },
  {
   "cell_type": "code",
   "execution_count": 8,
   "metadata": {
    "colab": {
     "base_uri": "https://localhost:8080/"
    },
    "executionInfo": {
     "elapsed": 1945,
     "status": "ok",
     "timestamp": 1621519090721,
     "user": {
      "displayName": "Debarshi CHANDA",
      "photoUrl": "https://lh3.googleusercontent.com/a-/AOh14GitJYa34lfGv-oY5eOhlKSEoPgbefOdJ2meuVJkFsE=s64",
      "userId": "15020289292628573652"
     },
     "user_tz": -330
    },
    "id": "4swzByCSQumz",
    "outputId": "b9be9087-3a75-438c-b6d8-d1c2269a4b1d"
   },
   "outputs": [
    {
     "data": {
      "text/plain": [
       "Index(['order_id', 'quantity', 'item_name', 'choice_description',\n",
       "       'item_price'],\n",
       "      dtype='object')"
      ]
     },
     "execution_count": 8,
     "metadata": {
      "tags": []
     },
     "output_type": "execute_result"
    }
   ],
   "source": [
    "chipo.columns"
   ]
  },
  {
   "cell_type": "markdown",
   "metadata": {
    "id": "LTHVoRxVQum0"
   },
   "source": [
    "### 7) Which was the most-ordered item? "
   ]
  },
  {
   "cell_type": "code",
   "execution_count": 9,
   "metadata": {
    "colab": {
     "base_uri": "https://localhost:8080/"
    },
    "executionInfo": {
     "elapsed": 1940,
     "status": "ok",
     "timestamp": 1621519090721,
     "user": {
      "displayName": "Debarshi CHANDA",
      "photoUrl": "https://lh3.googleusercontent.com/a-/AOh14GitJYa34lfGv-oY5eOhlKSEoPgbefOdJ2meuVJkFsE=s64",
      "userId": "15020289292628573652"
     },
     "user_tz": -330
    },
    "id": "WLZCvP1LQum0",
    "outputId": "5cecad32-b31c-4ae9-8d30-64584f103593"
   },
   "outputs": [
    {
     "data": {
      "text/plain": [
       "item_name\n",
       "Chicken Bowl    761\n",
       "Name: quantity, dtype: int64"
      ]
     },
     "execution_count": 9,
     "metadata": {
      "tags": []
     },
     "output_type": "execute_result"
    }
   ],
   "source": [
    "# Solution 1\n",
    "c = chipo.groupby('item_name').quantity.sum()\n",
    "c = c.sort_values(ascending=False)\n",
    "c.head(1)"
   ]
  },
  {
   "cell_type": "markdown",
   "metadata": {
    "id": "UEhqf-WVQum1"
   },
   "source": [
    "### 8) For the most-ordered item, how many items were ordered?"
   ]
  },
  {
   "cell_type": "code",
   "execution_count": 10,
   "metadata": {
    "colab": {
     "base_uri": "https://localhost:8080/"
    },
    "executionInfo": {
     "elapsed": 1932,
     "status": "ok",
     "timestamp": 1621519090722,
     "user": {
      "displayName": "Debarshi CHANDA",
      "photoUrl": "https://lh3.googleusercontent.com/a-/AOh14GitJYa34lfGv-oY5eOhlKSEoPgbefOdJ2meuVJkFsE=s64",
      "userId": "15020289292628573652"
     },
     "user_tz": -330
    },
    "id": "XusO-XBBQum1",
    "outputId": "8ff86c12-b34f-46fa-cc3b-aa7a82fe064f"
   },
   "outputs": [
    {
     "data": {
      "text/plain": [
       "item_name\n",
       "Chicken Bowl    761\n",
       "Name: quantity, dtype: int64"
      ]
     },
     "execution_count": 10,
     "metadata": {
      "tags": []
     },
     "output_type": "execute_result"
    }
   ],
   "source": [
    "# Solution 1\n",
    "c = chipo.groupby('item_name').quantity.sum()\n",
    "c = c.sort_values(ascending=False)\n",
    "c.head(1)"
   ]
  },
  {
   "cell_type": "markdown",
   "metadata": {
    "id": "r8RoyF3CQum2"
   },
   "source": [
    "### 9) What was the most ordered item in the choice_description column?"
   ]
  },
  {
   "cell_type": "code",
   "execution_count": 11,
   "metadata": {
    "colab": {
     "base_uri": "https://localhost:8080/"
    },
    "executionInfo": {
     "elapsed": 1919,
     "status": "ok",
     "timestamp": 1621519090722,
     "user": {
      "displayName": "Debarshi CHANDA",
      "photoUrl": "https://lh3.googleusercontent.com/a-/AOh14GitJYa34lfGv-oY5eOhlKSEoPgbefOdJ2meuVJkFsE=s64",
      "userId": "15020289292628573652"
     },
     "user_tz": -330
    },
    "id": "GY8Foi6wQum3",
    "outputId": "8ed2991b-0f25-4704-84d4-7b6a32baecc5"
   },
   "outputs": [
    {
     "data": {
      "text/plain": [
       "choice_description\n",
       "[Diet Coke]    159\n",
       "Name: quantity, dtype: int64"
      ]
     },
     "execution_count": 11,
     "metadata": {
      "tags": []
     },
     "output_type": "execute_result"
    }
   ],
   "source": [
    "# Solution 1\n",
    "c = chipo.groupby('choice_description').quantity.sum()\n",
    "c = c.sort_values(ascending=False)\n",
    "c.head(1)\n",
    "# Diet Coke 159"
   ]
  },
  {
   "cell_type": "markdown",
   "metadata": {
    "id": "yLODwyFrQum3"
   },
   "source": [
    "### 10) How many items were ordered in total?"
   ]
  },
  {
   "cell_type": "code",
   "execution_count": 12,
   "metadata": {
    "colab": {
     "base_uri": "https://localhost:8080/"
    },
    "executionInfo": {
     "elapsed": 1915,
     "status": "ok",
     "timestamp": 1621519090723,
     "user": {
      "displayName": "Debarshi CHANDA",
      "photoUrl": "https://lh3.googleusercontent.com/a-/AOh14GitJYa34lfGv-oY5eOhlKSEoPgbefOdJ2meuVJkFsE=s64",
      "userId": "15020289292628573652"
     },
     "user_tz": -330
    },
    "id": "Xnx04whfQum3",
    "outputId": "259e5576-40d8-44d3-e8d5-200e291c8114"
   },
   "outputs": [
    {
     "data": {
      "text/plain": [
       "4972"
      ]
     },
     "execution_count": 12,
     "metadata": {
      "tags": []
     },
     "output_type": "execute_result"
    }
   ],
   "source": [
    "total_items_orders = chipo.quantity.sum()\n",
    "total_items_orders"
   ]
  },
  {
   "cell_type": "markdown",
   "metadata": {
    "id": "HHOYElpAQum4"
   },
   "source": [
    "### 11) Turn the item price into a float"
   ]
  },
  {
   "cell_type": "code",
   "execution_count": 13,
   "metadata": {
    "executionInfo": {
     "elapsed": 1911,
     "status": "ok",
     "timestamp": 1621519090723,
     "user": {
      "displayName": "Debarshi CHANDA",
      "photoUrl": "https://lh3.googleusercontent.com/a-/AOh14GitJYa34lfGv-oY5eOhlKSEoPgbefOdJ2meuVJkFsE=s64",
      "userId": "15020289292628573652"
     },
     "user_tz": -330
    },
    "id": "v8zaB2YzQum4"
   },
   "outputs": [],
   "source": [
    "def dollarizer(x):\n",
    "    return float(x[1:-1])"
   ]
  },
  {
   "cell_type": "code",
   "execution_count": 14,
   "metadata": {
    "executionInfo": {
     "elapsed": 1909,
     "status": "ok",
     "timestamp": 1621519090724,
     "user": {
      "displayName": "Debarshi CHANDA",
      "photoUrl": "https://lh3.googleusercontent.com/a-/AOh14GitJYa34lfGv-oY5eOhlKSEoPgbefOdJ2meuVJkFsE=s64",
      "userId": "15020289292628573652"
     },
     "user_tz": -330
    },
    "id": "vDn1znN4Qum5"
   },
   "outputs": [],
   "source": [
    "chipo.item_price = chipo.item_price.apply(dollarizer)"
   ]
  },
  {
   "cell_type": "markdown",
   "metadata": {
    "id": "-uc18SSaQum5"
   },
   "source": [
    "### 12) How much was the revenue for the period in the dataset?\n",
    "#### Revenue will be the sum of quantity * item_price!"
   ]
  },
  {
   "cell_type": "code",
   "execution_count": 15,
   "metadata": {
    "colab": {
     "base_uri": "https://localhost:8080/"
    },
    "executionInfo": {
     "elapsed": 1907,
     "status": "ok",
     "timestamp": 1621519090724,
     "user": {
      "displayName": "Debarshi CHANDA",
      "photoUrl": "https://lh3.googleusercontent.com/a-/AOh14GitJYa34lfGv-oY5eOhlKSEoPgbefOdJ2meuVJkFsE=s64",
      "userId": "15020289292628573652"
     },
     "user_tz": -330
    },
    "id": "ZX90vyeuQum5",
    "outputId": "2956817e-3cc7-4f64-a82d-760491f9f43f"
   },
   "outputs": [
    {
     "data": {
      "text/plain": [
       "39237.02"
      ]
     },
     "execution_count": 15,
     "metadata": {
      "tags": []
     },
     "output_type": "execute_result"
    }
   ],
   "source": [
    "revenue = (chipo['quantity']* chipo['item_price']).sum()\n",
    "revenue"
   ]
  },
  {
   "cell_type": "markdown",
   "metadata": {
    "id": "u_Osj35mQum6"
   },
   "source": [
    "### 13) How many orders were made in the period?"
   ]
  },
  {
   "cell_type": "code",
   "execution_count": 16,
   "metadata": {
    "colab": {
     "base_uri": "https://localhost:8080/"
    },
    "executionInfo": {
     "elapsed": 1903,
     "status": "ok",
     "timestamp": 1621519090724,
     "user": {
      "displayName": "Debarshi CHANDA",
      "photoUrl": "https://lh3.googleusercontent.com/a-/AOh14GitJYa34lfGv-oY5eOhlKSEoPgbefOdJ2meuVJkFsE=s64",
      "userId": "15020289292628573652"
     },
     "user_tz": -330
    },
    "id": "e9SAe4IeQum6",
    "outputId": "5041606a-21a3-4901-a9f4-8506efde9764"
   },
   "outputs": [
    {
     "data": {
      "text/plain": [
       "1834"
      ]
     },
     "execution_count": 16,
     "metadata": {
      "tags": []
     },
     "output_type": "execute_result"
    }
   ],
   "source": [
    "orders = chipo.order_id.value_counts().count()\n",
    "orders"
   ]
  },
  {
   "cell_type": "markdown",
   "metadata": {
    "id": "ryXUluLiQum6"
   },
   "source": [
    "### 14) What is the average revenue amount per order?"
   ]
  },
  {
   "cell_type": "code",
   "execution_count": 17,
   "metadata": {
    "colab": {
     "base_uri": "https://localhost:8080/"
    },
    "executionInfo": {
     "elapsed": 1882,
     "status": "ok",
     "timestamp": 1621519090725,
     "user": {
      "displayName": "Debarshi CHANDA",
      "photoUrl": "https://lh3.googleusercontent.com/a-/AOh14GitJYa34lfGv-oY5eOhlKSEoPgbefOdJ2meuVJkFsE=s64",
      "userId": "15020289292628573652"
     },
     "user_tz": -330
    },
    "id": "u3LfqCDyQum6",
    "outputId": "dfb47a39-efee-437c-a866-d4dc5891e06c"
   },
   "outputs": [
    {
     "data": {
      "text/plain": [
       "21.394231188658654"
      ]
     },
     "execution_count": 17,
     "metadata": {
      "tags": []
     },
     "output_type": "execute_result"
    }
   ],
   "source": [
    "# Solution 1\n",
    "chipo['revenue'] = chipo['quantity'] * chipo['item_price']\n",
    "order_grouped = chipo.groupby(by=['order_id']).sum()\n",
    "order_grouped.mean()['revenue']"
   ]
  },
  {
   "cell_type": "markdown",
   "metadata": {
    "id": "soZOgXt0Qum7"
   },
   "source": [
    "### 15) How many different items are sold?"
   ]
  },
  {
   "cell_type": "code",
   "execution_count": 18,
   "metadata": {
    "colab": {
     "base_uri": "https://localhost:8080/"
    },
    "executionInfo": {
     "elapsed": 1878,
     "status": "ok",
     "timestamp": 1621519090725,
     "user": {
      "displayName": "Debarshi CHANDA",
      "photoUrl": "https://lh3.googleusercontent.com/a-/AOh14GitJYa34lfGv-oY5eOhlKSEoPgbefOdJ2meuVJkFsE=s64",
      "userId": "15020289292628573652"
     },
     "user_tz": -330
    },
    "id": "UXPXEsbxkaVw",
    "outputId": "0732bd2c-20c8-4d06-a70c-d6e99bc3d8a3"
   },
   "outputs": [
    {
     "data": {
      "text/plain": [
       "50"
      ]
     },
     "execution_count": 18,
     "metadata": {
      "tags": []
     },
     "output_type": "execute_result"
    }
   ],
   "source": [
    "# Solution 1\n",
    "chipo.item_name.nunique()"
   ]
  },
  {
   "cell_type": "code",
   "execution_count": 19,
   "metadata": {
    "colab": {
     "base_uri": "https://localhost:8080/"
    },
    "executionInfo": {
     "elapsed": 1874,
     "status": "ok",
     "timestamp": 1621519090725,
     "user": {
      "displayName": "Debarshi CHANDA",
      "photoUrl": "https://lh3.googleusercontent.com/a-/AOh14GitJYa34lfGv-oY5eOhlKSEoPgbefOdJ2meuVJkFsE=s64",
      "userId": "15020289292628573652"
     },
     "user_tz": -330
    },
    "id": "PbuZBbODQum7",
    "outputId": "49424ecc-cc06-4d8e-9a6a-e33691dbb8cc"
   },
   "outputs": [
    {
     "data": {
      "text/plain": [
       "50"
      ]
     },
     "execution_count": 19,
     "metadata": {
      "tags": []
     },
     "output_type": "execute_result"
    }
   ],
   "source": [
    "# Solution 2\n",
    "chipo.item_name.value_counts().count()"
   ]
  },
  {
   "cell_type": "code",
   "execution_count": 19,
   "metadata": {
    "executionInfo": {
     "elapsed": 1871,
     "status": "ok",
     "timestamp": 1621519090726,
     "user": {
      "displayName": "Debarshi CHANDA",
      "photoUrl": "https://lh3.googleusercontent.com/a-/AOh14GitJYa34lfGv-oY5eOhlKSEoPgbefOdJ2meuVJkFsE=s64",
      "userId": "15020289292628573652"
     },
     "user_tz": -330
    },
    "id": "t51y7idVQum7"
   },
   "outputs": [],
   "source": []
  }
 ],
 "metadata": {
  "anaconda-cloud": {},
  "colab": {
   "collapsed_sections": [],
   "name": "Basic_Data_Analysis_Assignment_2_Solution.ipynb",
   "provenance": []
  },
  "kernelspec": {
   "display_name": "Python 3",
   "language": "python",
   "name": "python3"
  },
  "language_info": {
   "codemirror_mode": {
    "name": "ipython",
    "version": 3
   },
   "file_extension": ".py",
   "mimetype": "text/x-python",
   "name": "python",
   "nbconvert_exporter": "python",
   "pygments_lexer": "ipython3",
   "version": "3.8.8"
  }
 },
 "nbformat": 4,
 "nbformat_minor": 1
}
